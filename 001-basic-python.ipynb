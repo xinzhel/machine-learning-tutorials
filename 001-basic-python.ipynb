{
 "cells": [
  {
   "cell_type": "markdown",
   "metadata": {},
   "source": [
    "### Control Flow"
   ]
  },
  {
   "cell_type": "code",
   "execution_count": 14,
   "metadata": {},
   "outputs": [
    {
     "name": "stdout",
     "output_type": "stream",
     "text": [
      "a is greater than 2\n",
      "Iteration 0\n",
      "Iteration 1\n",
      "Iteration 2\n",
      "Iteration 3\n",
      "Iteration 4\n"
     ]
    }
   ],
   "source": [
    "# sequential execution\n",
    "\n",
    "# conditional execution\n",
    "a = 3\n",
    "if a > 2:\n",
    "    print(\"a is greater than 2\")\n",
    "else:\n",
    "    print(\"a is not greater than 2\")\n",
    "\n",
    "# loop execution\n",
    "for i in range(5):\n",
    "    print(f\"Iteration {i}\")"
   ]
  },
  {
   "cell_type": "markdown",
   "metadata": {},
   "source": [
    "### Immutable Data Types\n",
    "integer, floats, strings, Booleans, and tuples \n",
    " * will have the different memory address once you change the value. "
   ]
  },
  {
   "cell_type": "code",
   "execution_count": 15,
   "metadata": {},
   "outputs": [
    {
     "name": "stdout",
     "output_type": "stream",
     "text": [
      "4305409888\n",
      "4305409984\n",
      "6\n"
     ]
    },
    {
     "ename": "TypeError",
     "evalue": "'tuple' object does not support item assignment",
     "output_type": "error",
     "traceback": [
      "\u001b[0;31m---------------------------------------------------------------------------\u001b[0m",
      "\u001b[0;31mTypeError\u001b[0m                                 Traceback (most recent call last)",
      "Cell \u001b[0;32mIn[15], line 9\u001b[0m\n\u001b[1;32m      7\u001b[0m \u001b[38;5;66;03m## ERROR!!! For tuple,  you cannot change values in the tuple\u001b[39;00m\n\u001b[1;32m      8\u001b[0m x \u001b[38;5;241m=\u001b[39m (\u001b[38;5;241m1\u001b[39m, \u001b[38;5;241m2\u001b[39m, \u001b[38;5;241m3\u001b[39m)\n\u001b[0;32m----> 9\u001b[0m \u001b[43mx\u001b[49m\u001b[43m[\u001b[49m\u001b[38;5;241;43m0\u001b[39;49m\u001b[43m]\u001b[49m \u001b[38;5;241m=\u001b[39m \u001b[38;5;241m2\u001b[39m\n",
      "\u001b[0;31mTypeError\u001b[0m: 'tuple' object does not support item assignment"
     ]
    }
   ],
   "source": [
    "x = 3 \n",
    "print(id(x))\n",
    "x = x + 3\n",
    "print(id(x))\n",
    "print(x)\n",
    "\n",
    "## ERROR!!! For tuple,  you cannot change values in the tuple\n",
    "x = (1, 2, 3)\n",
    "x[0] = 2"
   ]
  },
  {
   "cell_type": "markdown",
   "metadata": {},
   "source": [
    "### Mutable Data Types\n",
    "list, dictionary and set\n",
    "* will have the same memory address once you change the value\n"
   ]
  },
  {
   "cell_type": "code",
   "execution_count": 17,
   "metadata": {},
   "outputs": [
    {
     "ename": "TypeError",
     "evalue": "'set' object is not subscriptable",
     "output_type": "error",
     "traceback": [
      "\u001b[0;31m---------------------------------------------------------------------------\u001b[0m",
      "\u001b[0;31mTypeError\u001b[0m                                 Traceback (most recent call last)",
      "Cell \u001b[0;32mIn[17], line 3\u001b[0m\n\u001b[1;32m      1\u001b[0m lst \u001b[38;5;241m=\u001b[39m [\u001b[38;5;241m1\u001b[39m,\u001b[38;5;241m1\u001b[39m,\u001b[38;5;241m3\u001b[39m]\n\u001b[1;32m      2\u001b[0m s \u001b[38;5;241m=\u001b[39m \u001b[38;5;28mset\u001b[39m(lst)  \u001b[38;5;66;03m# {1, 3}\u001b[39;00m\n\u001b[0;32m----> 3\u001b[0m \u001b[43ms\u001b[49m\u001b[43m[\u001b[49m\u001b[38;5;241;43m0\u001b[39;49m\u001b[43m]\u001b[49m\n",
      "\u001b[0;31mTypeError\u001b[0m: 'set' object is not subscriptable"
     ]
    }
   ],
   "source": [
    "lst = [1,1,3]\n",
    "s = set(lst)  # {1, 3}\n",
    "s[0]"
   ]
  },
  {
   "cell_type": "code",
   "execution_count": null,
   "metadata": {},
   "outputs": [],
   "source": [
    "d = {'x': 1, \"y\": 2, \"z\": 3}\n",
    "print(\"The original address: \", id(d))\n",
    "d['x'] = 2\n",
    "print(\"The address aftering changing a value: \", id(d))\n",
    "print(d)"
   ]
  },
  {
   "cell_type": "markdown",
   "metadata": {},
   "source": [
    "### Function & Function Scope\n"
   ]
  },
  {
   "cell_type": "code",
   "execution_count": null,
   "metadata": {},
   "outputs": [
    {
     "name": "stdout",
     "output_type": "stream",
     "text": [
      "6\n"
     ]
    }
   ],
   "source": [
    "x = 3\n",
    "def add3(x):\n",
    "    x= x + 3 \n",
    "    return x\n",
    "add3(x)\n",
    "print(x)\n",
    "\n",
    "\n",
    "\n"
   ]
  },
  {
   "cell_type": "markdown",
   "metadata": {},
   "source": [
    "How about the code below?"
   ]
  },
  {
   "cell_type": "code",
   "execution_count": 21,
   "metadata": {},
   "outputs": [
    {
     "name": "stdout",
     "output_type": "stream",
     "text": [
      "[6]\n"
     ]
    }
   ],
   "source": [
    "x = [3]\n",
    "def add3(x):\n",
    "    x[0] = x[0] + 3\n",
    "\n",
    "add3(x)\n",
    "print(x)"
   ]
  },
  {
   "cell_type": "markdown",
   "metadata": {},
   "source": [
    "An Interesting Question: Why the integer x is changed and the list x does not? Any hypothesis? How to check?\n",
    "\n",
    "<!-- But a deeper understanding requires knowledge of pointer in C programming, which underlies the implementation of Python data types. [This link](https://realpython.com/pointers-in-python/#immutable-vs-mutable-objects) provides a good starting point.\n",
    "\n",
    "<!-- * The first `x` is defined in what we call **global scope**.\n",
    "* All the objects created in the function will be stored in **a local scope**. Hence, the first `x` in `x= x+3` is a newly created object in the local scope.\n",
    "* We can verify the above assumption by looing at their memory addresses. The addresses are different. --> "
   ]
  },
  {
   "cell_type": "code",
   "execution_count": 19,
   "metadata": {},
   "outputs": [
    {
     "name": "stdout",
     "output_type": "stream",
     "text": [
      "The memory address of x: 4305409888\n",
      "The memory address of x passed into the function: 4305409888\n",
      "The memory address of the newly created x in the function: 4305409984\n",
      "3\n"
     ]
    }
   ],
   "source": [
    "x = 3 # define x in the global scope\n",
    "print(\"The memory address of x:\", id(x))\n",
    "def add3(x):\n",
    "    print(\"The memory address of x passed into the function:\", id(x))\n",
    "    x = x + 3 # a new memory adress will be assigned to x in the function scope\n",
    "    print(\"The memory address of the newly created x in the function:\", id(x))\n",
    "add3(x)\n",
    "print(x)\n"
   ]
  },
  {
   "cell_type": "code",
   "execution_count": 10,
   "metadata": {},
   "outputs": [
    {
     "name": "stdout",
     "output_type": "stream",
     "text": [
      "The memory address of x: 4409445056\n",
      "The memory address of x in the function: 4409445056\n",
      "[6]\n"
     ]
    }
   ],
   "source": [
    "x = [3] # define x in the global scope\n",
    "print(\"The memory address of x:\", id(x))\n",
    "def add3(x):\n",
    "    x[0] = x[0] + 3 # Here, we assign the new value into the same memory address as x in the global scope\n",
    "    print(\"The memory address of x in the function:\", id(x))\n",
    "add3(x)\n",
    "print(x)"
   ]
  },
  {
   "cell_type": "markdown",
   "metadata": {},
   "source": [
    "What if I really want to change the global variable outside the function scope?\n",
    "<!-- * If we do not want to create a new object x in the function, and always want to access x in the global scope,  use the `global` keyword\n",
    "* Note that since x is immutable data type (integer), the memory address is still changed. I have an explanation of mutable and immutable data types. See the section below for mutable and immutable data types -->"
   ]
  },
  {
   "cell_type": "code",
   "execution_count": 24,
   "metadata": {},
   "outputs": [
    {
     "name": "stdout",
     "output_type": "stream",
     "text": [
      "4305409888\n",
      "4305409984\n",
      "6\n"
     ]
    }
   ],
   "source": [
    "\n",
    "x = 3 # define x in the global scope\n",
    "print(id(x))\n",
    "def add3():\n",
    "    global x # define x with the x in the global scope\n",
    "    x= x + 3 # all the x here refer to the one in the global scope now\n",
    "    print(id(x))\n",
    "add3()\n",
    "print(x)"
   ]
  },
  {
   "cell_type": "markdown",
   "metadata": {},
   "source": [
    " <!-- Why does the list x change?  When you call `x[0] = x[0] + 3`, you do not define a new object called `x`. Instead, you refer to the same `x` in the global scope. -->"
   ]
  },
  {
   "cell_type": "code",
   "execution_count": null,
   "metadata": {},
   "outputs": [
    {
     "name": "stdout",
     "output_type": "stream",
     "text": [
      "The memory address of x: 139839104859904\n",
      "The memory address of x in the function: 139839104859904\n",
      "[6]\n"
     ]
    }
   ],
   "source": [
    "# You have to know the underlying implementation of these data types to understand their behaviours with pointer\n",
    "# For immutable data types, the memory address of x in the function and x in the global scope is the same\n",
    "x = [3] # define x in the global scope\n",
    "print(\"The memory address of x:\", id(x))\n",
    "def add3(x):\n",
    "    x[0] = x[0] + 3\n",
    "    print(\"The memory address of x in the function:\", id(x))\n",
    "add3(x)\n",
    "print(x)\n"
   ]
  },
  {
   "cell_type": "markdown",
   "metadata": {},
   "source": [
    "### An Interesting Question: From Function back to Data Type"
   ]
  },
  {
   "cell_type": "code",
   "execution_count": null,
   "metadata": {},
   "outputs": [],
   "source": [
    "def func1():\n",
    "    a = 1\n",
    "    b = 2\n",
    "    return a, b\n",
    "\n",
    "o = func1()\n",
    "print(type(o))"
   ]
  },
  {
   "cell_type": "code",
   "execution_count": null,
   "metadata": {},
   "outputs": [],
   "source": []
  }
 ],
 "metadata": {
  "kernelspec": {
   "display_name": "learn_ml",
   "language": "python",
   "name": "python3"
  },
  "language_info": {
   "codemirror_mode": {
    "name": "ipython",
    "version": 3
   },
   "file_extension": ".py",
   "mimetype": "text/x-python",
   "name": "python",
   "nbconvert_exporter": "python",
   "pygments_lexer": "ipython3",
   "version": "3.12.2"
  }
 },
 "nbformat": 4,
 "nbformat_minor": 4
}
