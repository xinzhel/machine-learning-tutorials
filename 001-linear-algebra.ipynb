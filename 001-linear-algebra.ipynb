{
  "cells": [
    {
      "cell_type": "code",
      "execution_count": 30,
      "metadata": {},
      "outputs": [],
      "source": [
        "import numpy as np\n",
        "# import tensorflow as tf\n",
        "# import torch"
      ]
    },
    {
      "attachments": {},
      "cell_type": "markdown",
      "metadata": {
        "id": "eM-B_L05VhgW"
      },
      "source": [
        "## Section 1: Defining Vector and Matrix"
      ]
    },
    {
      "cell_type": "markdown",
      "metadata": {},
      "source": [
        "#### From Python List\n",
        "Vector"
      ]
    },
    {
      "cell_type": "code",
      "execution_count": 35,
      "metadata": {},
      "outputs": [],
      "source": [
        "# in NumPy\n",
        "v = np.array([1, 2]) \n",
        "\n"
      ]
    },
    {
      "cell_type": "markdown",
      "metadata": {},
      "source": [
        "Matrix"
      ]
    },
    {
      "cell_type": "code",
      "execution_count": 36,
      "metadata": {},
      "outputs": [],
      "source": [
        "m = np.array([[1, 2], \n",
        "              [3, 4]]) "
      ]
    },
    {
      "cell_type": "markdown",
      "metadata": {},
      "source": [
        "#### Special Matrix"
      ]
    },
    {
      "cell_type": "code",
      "execution_count": 4,
      "metadata": {},
      "outputs": [
        {
          "name": "stdout",
          "output_type": "stream",
          "text": [
            "An all-zero matrix \n",
            " [[0. 0.]\n",
            " [0. 0.]\n",
            " [0. 0.]]\n",
            "An all ones matrix \n",
            " [[1. 1.]\n",
            " [1. 1.]\n",
            " [1. 1.]]\n",
            "A constant matrix \n",
            " [[7 7]\n",
            " [7 7]]\n",
            "A 2x2 identity  matrix \n",
            " [[1. 0.]\n",
            " [0. 1.]]\n"
          ]
        }
      ],
      "source": [
        "# in NumPy\n",
        "print(f\"\"\"An all-zero matrix \\n {np.zeros((3,2)) }\"\"\")\n",
        "print(f\"\"\"An all ones matrix \\n {np.ones((3,2))}\"\"\")\n",
        "print(f\"\"\"A constant matrix \\n {np.full((2,2), 7)  }\"\"\")      \n",
        "print(f\"\"\"A 2x2 identity  matrix \\n {np.eye(2) }\"\"\")"
      ]
    },
    {
      "cell_type": "markdown",
      "metadata": {},
      "source": [
        "#### (Only for DL students) Converting NumPy Matrix to Tensorflow/PyTorch"
      ]
    },
    {
      "cell_type": "code",
      "execution_count": 8,
      "metadata": {},
      "outputs": [],
      "source": [
        "# m to tf constant\n",
        "m_tf = tf.constant(m)\n",
        "\n",
        "# m to tf variable\n",
        "m_tf_var = tf.Variable(m)"
      ]
    },
    {
      "cell_type": "code",
      "execution_count": null,
      "metadata": {},
      "outputs": [],
      "source": [
        "\n",
        "# m to torch constant\n",
        "m_torch = torch.tensor(m)\n",
        "\n",
        "# m to torch variable (cast to float)\n",
        "m_torch_var = torch.tensor(m, dtype=torch.float32, requires_grad=True)"
      ]
    },
    {
      "cell_type": "markdown",
      "metadata": {},
      "source": [
        "## Section 2: Matrix Indexing\n",
        "[Official documentation](https://docs.scipy.org/doc/numpy/reference/arrays.indexing.html) for details"
      ]
    },
    {
      "cell_type": "code",
      "execution_count": 46,
      "metadata": {},
      "outputs": [
        {
          "name": "stdout",
          "output_type": "stream",
          "text": [
            "a is [[ 1  2  3  4]\n",
            " [ 5  6  7  8]\n",
            " [ 9 10 11 12]]\n"
          ]
        }
      ],
      "source": [
        "a = np.array([[1,2,3,4], \n",
        "              [5,6,7,8], \n",
        "              [9,10,11,12]])\n",
        "print(f'a is {a}')"
      ]
    },
    {
      "cell_type": "code",
      "execution_count": 44,
      "metadata": {},
      "outputs": [],
      "source": [
        "# Slice the subarray consisting of the first 2 rows and columns 1 and 2; "
      ]
    },
    {
      "cell_type": "markdown",
      "metadata": {},
      "source": [
        "Be careful!!! "
      ]
    },
    {
      "cell_type": "code",
      "execution_count": 45,
      "metadata": {},
      "outputs": [
        {
          "name": "stdout",
          "output_type": "stream",
          "text": [
            "[[ 1  2  3  4]\n",
            " [ 5  6  7  8]\n",
            " [ 9 10 11 12]]\n",
            "[[ 1 77  3  4]\n",
            " [ 5  6  7  8]\n",
            " [ 9 10 11 12]]\n"
          ]
        }
      ],
      "source": [
        "# modify via slicing\n",
        "print(a)\n",
        "b = a[:2, 1:3]\n",
        "b[0, 0] = 77     # b[0, 0] is the same piece of data as a[0, 1]\n",
        "print(a)   "
      ]
    },
    {
      "cell_type": "markdown",
      "metadata": {},
      "source": [
        "Integer array indexing"
      ]
    },
    {
      "cell_type": "code",
      "execution_count": null,
      "metadata": {},
      "outputs": [
        {
          "name": "stdout",
          "output_type": "stream",
          "text": [
            "[[ 1 77  3  4]\n",
            " [ 5  6  7  8]\n",
            " [ 9 10 11 12]]\n",
            "[77  6  9]\n",
            "[77  6  9]\n",
            "[77 77]\n",
            "[77 77]\n"
          ]
        }
      ],
      "source": [
        " \n",
        "print(a) \n",
        "\n",
        "\n",
        "# The returned array will have shape (3,) by choosing elements \n",
        "# at [0,1],[1,1], and [2,0]\n",
        "print(a[[0, 1, 2], [1, 1, 0]])\n",
        "# print(np.array([a[0, 1], a[1,  1], a[2, 0]])) # equivalent\n",
        "\n",
        "# When using integer array indexing, you can reuse the same\n",
        "# element from the source array:\n",
        "print(a[[0, 0], [1, 1]])  # Prints \"[77 77]\"\n"
      ]
    },
    {
      "cell_type": "code",
      "execution_count": null,
      "metadata": {},
      "outputs": [],
      "source": [
        "# Boolean array indexing\n"
      ]
    },
    {
      "cell_type": "markdown",
      "metadata": {},
      "source": [
        "## Section 3: Basic Math Operations"
      ]
    },
    {
      "cell_type": "code",
      "execution_count": 58,
      "metadata": {},
      "outputs": [
        {
          "data": {
            "text/plain": [
              "array([1., 1., 1., 1., 1.])"
            ]
          },
          "execution_count": 58,
          "metadata": {},
          "output_type": "execute_result"
        }
      ],
      "source": [
        "a = np.ones(5)\n",
        "x = np.array([[1,2],\n",
        "              [3,4]], dtype=np.float64)\n",
        "y = np.array([[5,6],\n",
        "              [7,8]], dtype=np.float64)\n",
        "a"
      ]
    },
    {
      "cell_type": "markdown",
      "metadata": {},
      "source": [
        "Unary Operators"
      ]
    },
    {
      "cell_type": "code",
      "execution_count": 57,
      "metadata": {},
      "outputs": [
        {
          "name": "stdout",
          "output_type": "stream",
          "text": [
            "[2. 2. 2. 2. 2.]\n",
            "[9. 9. 9. 9. 9.]\n"
          ]
        }
      ],
      "source": [
        "print(a + 1)\n",
        "\n",
        "print(np.square(a+2))"
      ]
    },
    {
      "cell_type": "code",
      "execution_count": 53,
      "metadata": {},
      "outputs": [],
      "source": [
        "# (Only for DL students) in TensorFlow\n",
        "# print(tf.square(a + 1)) "
      ]
    },
    {
      "cell_type": "markdown",
      "metadata": {},
      "source": [
        "Binary Operators"
      ]
    },
    {
      "cell_type": "code",
      "execution_count": 59,
      "metadata": {},
      "outputs": [
        {
          "name": "stdout",
          "output_type": "stream",
          "text": [
            "Elementwise sum; both produce the array\n",
            "[[ 6.  8.]\n",
            " [10. 12.]]\n",
            "[[ 6.  8.]\n",
            " [10. 12.]]\n",
            "Elementwise difference; both produce the array\n",
            "[[-4. -4.]\n",
            " [-4. -4.]]\n",
            "[[-4. -4.]\n",
            " [-4. -4.]]\n",
            "Elementwise product; both produce the array\n",
            "[[ 5. 12.]\n",
            " [21. 32.]]\n",
            "[[ 5. 12.]\n",
            " [21. 32.]]\n",
            "Elementwise division; both produce the array\n",
            "[[0.2        0.33333333]\n",
            " [0.42857143 0.5       ]]\n",
            "[[0.2        0.33333333]\n",
            " [0.42857143 0.5       ]]\n",
            "Elementwise square root; produces the array\n",
            "[[1.         1.41421356]\n",
            " [1.73205081 2.        ]]\n"
          ]
        }
      ],
      "source": [
        "print(\"Elementwise sum; both produce the array\")\n",
        "print(x + y)\n",
        "print(np.add(x, y))\n",
        "\n",
        "print(\"Elementwise difference; both produce the array\")\n",
        "print(x - y)\n",
        "print(np.subtract(x, y))\n",
        "\n",
        "print(\"Elementwise product; both produce the array\")\n",
        "print(x * y)\n",
        "print(np.multiply(x, y))\n",
        "\n",
        "print(\"Elementwise division; both produce the array\")\n",
        "print(x / y)\n",
        "print(np.divide(x, y))\n",
        "\n",
        "print(\"Elementwise square root; produces the array\")\n",
        "print(np.sqrt(x))"
      ]
    },
    {
      "cell_type": "markdown",
      "metadata": {},
      "source": [
        "(Only for DL students) Elementwise with broadcasting\n",
        "\n",
        "* Strict Data Type Compatibility in TensorFlow\n",
        "\n",
        "* Type Promotion in PyTorch"
      ]
    },
    {
      "cell_type": "code",
      "execution_count": 19,
      "metadata": {},
      "outputs": [],
      "source": [
        "# # (Only for DL students)  in TensorFlow\n",
        "# b = tf.constant(np.ones(5))\n",
        "# print(b.dtype)\n",
        "# d = tf.constant(3)\n",
        "# print(d.dtype)\n",
        "\n",
        "# b+d\n",
        "\n",
        "# # in PyTorch\n",
        "# b = torch.tensor(np.ones(5))\n",
        "# print(b.dtype)\n",
        "# d = torch.tensor(3)\n",
        "# print(d.dtype)\n",
        "\n",
        "# b+d"
      ]
    },
    {
      "cell_type": "markdown",
      "metadata": {},
      "source": [
        "## Section 4: Linear Algebra Operations"
      ]
    },
    {
      "cell_type": "markdown",
      "metadata": {},
      "source": [
        "#### Matrix multiplication (Dot Product): when the number of columns in the first matrix is the same as the number of rows in the second.\n",
        "In python this uses the '$@$' operator"
      ]
    },
    {
      "cell_type": "code",
      "execution_count": 61,
      "metadata": {},
      "outputs": [
        {
          "data": {
            "text/plain": [
              "5"
            ]
          },
          "execution_count": 61,
          "metadata": {},
          "output_type": "execute_result"
        }
      ],
      "source": [
        "x1 = np.array([1, 2])\n",
        "x2 = np.array([1, 2])\n",
        "\n",
        "x1.dot(x2)"
      ]
    },
    {
      "cell_type": "code",
      "execution_count": null,
      "metadata": {},
      "outputs": [
        {
          "data": {
            "text/plain": [
              "array([[0, 1],\n",
              "       [1, 0]])"
            ]
          },
          "execution_count": 66,
          "metadata": {},
          "output_type": "execute_result"
        }
      ],
      "source": [
        "# dot product of two matrices\n",
        "                #    P.    N\n",
        "truth = np.array([   [0,    1], \n",
        "                     [ 1,    0]])\n",
        "# 1  2 3 4\n",
        "prediction = np.array([[1,    0], \n",
        "                        [0,    1]]).transpose()\n",
        "\n",
        "# print(A @ B)"
      ]
    },
    {
      "cell_type": "markdown",
      "metadata": {},
      "source": [
        "#### Transpose $x^T$"
      ]
    },
    {
      "cell_type": "code",
      "execution_count": null,
      "metadata": {},
      "outputs": [],
      "source": [
        "# x.T\n",
        "print('m:', m)\n",
        "print('m.T', m.transpose())\n",
        "print('m.T shape', m.T.shape)\n",
        "# in numpy, a vector equals to the transpose of the vector"
      ]
    },
    {
      "cell_type": "markdown",
      "metadata": {},
      "source": [
        "## Section 5: More on Matrix Multiplication\n",
        "#### Concrete Imagination 1: Rotating data\n",
        "  \n",
        "See [this AWESOME video](https://www.youtube.com/watch?v=kYB8IZa5AuE)\n",
        "\n",
        "<img src=\"pics/transformed_data_point.png\" width=450>"
      ]
    },
    {
      "cell_type": "code",
      "execution_count": 70,
      "metadata": {},
      "outputs": [
        {
          "data": {
            "image/png": "[encoded data removed]",
            "text/plain": [
              "<Figure size 640x480 with 1 Axes>"
            ]
          },
          "metadata": {},
          "output_type": "display_data"
        }
      ],
      "source": [
        "\n",
        "# define a point at (1, 0)\n",
        "p1 = np.array([1, 0])\n",
        "\n",
        "# plot the point at 2-d space\n",
        "from matplotlib import pyplot as plt\n",
        "plt.scatter(np.array([1]), \n",
        "            y=np.array([0]), \n",
        "            s=100, \n",
        "            c='red', \n",
        "            label='Point (1, 0)')\n",
        "plt.xlim(0, 2)\n",
        "plt.ylim(0, 2)\n",
        "plt.show()\n",
        "\n"
      ]
    },
    {
      "cell_type": "code",
      "execution_count": null,
      "metadata": {},
      "outputs": [
        {
          "data": {
            "image/png": "[encoded data removed]",
            "text/plain": [
              "<Figure size 640x480 with 1 Axes>"
            ]
          },
          "metadata": {},
          "output_type": "display_data"
        }
      ],
      "source": [
        "rot_mat = np.array([[0, -1], \n",
        "                    [1, 0]])\n",
        "\n",
        "# rotate the point by 90 degrees\n",
        "rotated_p1 = np.dot(rot_mat, p1)\n",
        "\n",
        "plt.scatter(rotated_p1[0], \n",
        "            rotated_p1[1], \n",
        "            s=100, \n",
        "            c='blue', \n",
        "            label='Rotated Point (0, 1)')\n",
        "plt.xlim(0, 2)\n",
        "plt.ylim(0, 2)\n",
        "plt.show()"
      ]
    },
    {
      "cell_type": "markdown",
      "metadata": {},
      "source": [
        "#### Concrete Imagination 2: Language Transformed by a Matrix in Large Language Models \n",
        "\n",
        "See [this paper](https://aclanthology.org/P19-1356.pdf) for details\n",
        "\n",
        "<img src=\"pics/language-transform1.png\" width=350>\n",
        "<img src=\"pics/language-transform.png\" width=70>\n",
        "\n",
        "<!-- PP: In \"She sat on the chair,\" \"on the chair\" is a prepositional phrase that tells where she sat.\n",
        "ADJP: in \"The man with the blue hat is tall,\" \"with the blue hat\" functions as an adjective phrase modifying \"man.\"\n",
        "VP: In the sentence \"The cat is sleeping on the mat,\" \"is sleeping on the mat\" is the VP.\n",
        "NP: in \"The quick brown fox jumps over the lazy dog,\" \"the quick brown fox\" and \"the lazy dog\" are both NPs. -->"
      ]
    },
    {
      "cell_type": "markdown",
      "metadata": {},
      "source": [
        "## Section 6: Rank (Order) / Dimensions\n"
      ]
    },
    {
      "cell_type": "code",
      "execution_count": 5,
      "metadata": {},
      "outputs": [],
      "source": [
        "# Matrix Rank\n",
        "A = np.array([[1, 2], \n",
        "              [2, 4]])"
      ]
    },
    {
      "cell_type": "markdown",
      "metadata": {},
      "source": [
        "What is the rank of the matrix? (Equaling to: how many dimensions the matrix have?)\n",
        "* In terms of numpy, ?\n",
        "**Rank in Numpy (sometimes referred to as \"order\" in array contexts):**\n",
        "> Hint: The rank (or order) of a Numpy tensor is the number of dimensions (the level of nested brackets) it has.\n",
        "<!-- A 3D array (like an RGB image) with shape (height, width, channels) has a rank of 3. -->\n"
      ]
    },
    {
      "cell_type": "code",
      "execution_count": 7,
      "metadata": {},
      "outputs": [],
      "source": [
        "# A.ndim"
      ]
    },
    {
      "cell_type": "markdown",
      "metadata": {},
      "source": [
        "* In terms of linear algebra, ?\n",
        "> Hint: the maximum number of linearly independent rows or columns in the matrix, which indicates the dimension of the vector space spanned by its rows.\n",
        "\n",
        "<!-- **Linear Algebra Dimension:**\n",
        "* Vector Space: The dimension of a vector space is the number of vectors in a basis of the space, which is the number of coordinates needed to specify any vector in that space.\n",
        "* Example: $\\mathbb{R}^3$ has a dimension of 3 because any vector in this space can be specified by 3 coordinates. -->"
      ]
    },
    {
      "cell_type": "markdown",
      "metadata": {},
      "source": []
    }
  ],
  "metadata": {
    "colab": {
      "provenance": []
    },
    "kernelspec": {
      "display_name": "learn_ml",
      "language": "python",
      "name": "python3"
    },
    "language_info": {
      "codemirror_mode": {
        "name": "ipython",
        "version": 3
      },
      "file_extension": ".py",
      "mimetype": "text/x-python",
      "name": "python",
      "nbconvert_exporter": "python",
      "pygments_lexer": "ipython3",
      "version": "3.12.2"
    },
    "orig_nbformat": 4
  },
  "nbformat": 4,
  "nbformat_minor": 0
}
