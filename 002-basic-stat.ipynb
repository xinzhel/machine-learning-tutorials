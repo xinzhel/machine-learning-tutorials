{
 "cells": [
  {
   "cell_type": "markdown",
   "metadata": {},
   "source": [
    "#  Basic Statistics"
   ]
  },
  {
   "cell_type": "code",
   "execution_count": null,
   "metadata": {},
   "outputs": [],
   "source": [
    "# How could you use Q1, Q3 to determine the upper bound and lower bound for detecting outliers?"
   ]
  },
  {
   "cell_type": "code",
   "execution_count": 2,
   "metadata": {},
   "outputs": [],
   "source": [
    "import numpy as np\n",
    "from my_ml_package.visualize import plot_pdf, plot_cdf, plot_histogram"
   ]
  },
  {
   "attachments": {},
   "cell_type": "markdown",
   "metadata": {},
   "source": [
    "Why should we learn <...>?\n",
    "  <!-- Uncertain events; random process -->"
   ]
  },
  {
   "attachments": {},
   "cell_type": "markdown",
   "metadata": {},
   "source": [
    "### Random Variables \n",
    "\"quantities of interest that are determined by the result of the (random) experiment are known as random variable\""
   ]
  },
  {
   "cell_type": "code",
   "execution_count": null,
   "metadata": {},
   "outputs": [],
   "source": [
    "next_words =     [\"statistics\", \"machine\", \"history\", \"data\", \"probability\", \"hypothesis\", ] "
   ]
  },
  {
   "cell_type": "code",
   "execution_count": null,
   "metadata": {},
   "outputs": [],
   "source": []
  },
  {
   "cell_type": "code",
   "execution_count": null,
   "metadata": {},
   "outputs": [],
   "source": []
  },
  {
   "cell_type": "code",
   "execution_count": null,
   "metadata": {},
   "outputs": [],
   "source": []
  },
  {
   "cell_type": "markdown",
   "metadata": {},
   "source": [
    "### Probability\n",
    "<!-- Quantify uncertainty -->"
   ]
  },
  {
   "cell_type": "code",
   "execution_count": null,
   "metadata": {},
   "outputs": [],
   "source": [
    "probs = [1/6, 1/6,1/6, 1/6, 1/6, 1/6]"
   ]
  },
  {
   "attachments": {},
   "cell_type": "markdown",
   "metadata": {},
   "source": [
    "### Distributions\n",
    "Why should we go from probability to distribution?\n",
    "<!-- Quantify the probability of the random process not a value/event from sample space -->\n",
    "<!-- * A random experiment: \"an experiment or a process for which the outcome cannot be predicted with certainty\" -->\n",
    "\n",
    "\n",
    "* Discrete vs Continuous distributions"
   ]
  },
  {
   "cell_type": "code",
   "execution_count": 10,
   "metadata": {},
   "outputs": [
    {
     "data": {
      "image/png": "[encoded data removed]",
      "text/plain": [
       "<Figure size 640x480 with 1 Axes>"
      ]
     },
     "metadata": {},
     "output_type": "display_data"
    }
   ],
   "source": [
    "# poison distribution\n",
    "sample = np.random.poisson(5, 5000)\n",
    "\n",
    "plot_histogram(sample, bins=30)"
   ]
  },
  {
   "cell_type": "code",
   "execution_count": null,
   "metadata": {},
   "outputs": [],
   "source": [
    "# plot_pdf(x, probs)\n",
    "# plot_cdf(x, probs)\n",
    "\n",
    "\n"
   ]
  },
  {
   "attachments": {},
   "cell_type": "markdown",
   "metadata": {},
   "source": [
    "### Central Limit Theorem\n",
    "As the sample size becomes large, the distribution of the sample mean (or sum) of independent, identically distributed (i.i.d.) variables approaches a normal distribution, regardless of the original distribution of the variables."
   ]
  },
  {
   "cell_type": "code",
   "execution_count": 12,
   "metadata": {},
   "outputs": [
    {
     "data": {
      "image/png": "[encoded data removed]",
      "text/plain": [
       "<Figure size 640x480 with 1 Axes>"
      ]
     },
     "metadata": {},
     "output_type": "display_data"
    }
   ],
   "source": [
    "# 1. Large sample size; 2. Sample mean/summation-> 3. Normal distribution\n",
    "# pdf: Probability Density Function-> Continuous variable; pmf: Probability Mass Function-> Categorical variable\n",
    "means = [np.mean(np.random.poisson(5, 5000)) for _ in range(1000)]\n",
    "plot_histogram(means, bins=30)\n",
    "\n",
    "# y = wx+b # trained sample\n",
    "\n",
    "# hypothesis testing -> z-test\n",
    "# confidence interval"
   ]
  },
  {
   "cell_type": "markdown",
   "metadata": {},
   "source": [
    "<!-- * Joint probability v.s Conditional probability\n",
    "* Bayes Rule: \"how you should change your existing beliefs in the light of new occurrence\"\n",
    "  + $Pr(\\text{cancer=True} | \\text{Test=Positive}) = \\frac{Pr(\\text{cancer=True}) Pr(\\text{Test=Positive}|\\text{cancer=True})}{Pr(\\text{Test=Positive})}$\n",
    "  + It can be used to calculate unknown poterior probability [in some cases](https://machinelearningmastery.com/bayes-theorem-for-machine-learning/#:~:text=It%20is%20often%20the%20case,\\)%20*%20P\\(not%20A\\))\n",
    "  + How does this Bayes rule help use build ML models?\n",
    "  parameters; data\n",
    "\n",
    "  maximize Pr(parameters|data) $\\propto$ Pr(data|parameters) * Pr(parameters) \n",
    "\n",
    "  maximize Pr(model|data) $\\propto$ Pr(data|model) * Pr(model)  -->"
   ]
  },
  {
   "cell_type": "markdown",
   "metadata": {},
   "source": [
    "### Percentile & InterQuartile Range"
   ]
  },
  {
   "cell_type": "code",
   "execution_count": 15,
   "metadata": {},
   "outputs": [
    {
     "name": "stdout",
     "output_type": "stream",
     "text": [
      "Q1: 3\n",
      "Q2: 6\n",
      "Q3: 9\n"
     ]
    }
   ],
   "source": [
    "from my_ml_package.stat import find_position_for_percentile, find_percentile\n",
    "# Example dataset\n",
    "data = [1, 2, 3, \n",
    "        4, 5, 6, \n",
    "        7, 8, 9, \n",
    "        10, 100]\n",
    "\n",
    "Q1 = find_percentile(25, data)  # Q1\n",
    "Q2 = find_percentile(50, data)  # Q2\n",
    "Q3 = find_percentile(75, data)  # Q3\n",
    "print(f\"Q1: {Q1}\")  \n",
    "print(f\"Q2: {Q2}\")  \n",
    "print(f\"Q3: {Q3}\")\n"
   ]
  },
  {
   "cell_type": "code",
   "execution_count": null,
   "metadata": {},
   "outputs": [
    {
     "name": "stdout",
     "output_type": "stream",
     "text": [
      "Lower Bound for Outliers: -1.1999999999999993\n",
      "Upper Bound for Outliers: 13.2\n"
     ]
    }
   ],
   "source": [
    "\n",
    "tolerance_range = 1.5*(Q3-Q1)\n",
    "lower_bound = Q1 - tolerance_range\n",
    "upper_bound = Q3 + tolerance_range\n",
    "# # Print the results\n",
    "print(f\"Lower Bound for Outliers: {lower_bound}\")\n",
    "print(f\"Upper Bound for Outliers: {upper_bound}\")\n"
   ]
  },
  {
   "cell_type": "markdown",
   "metadata": {},
   "source": []
  },
  {
   "cell_type": "markdown",
   "metadata": {},
   "source": [
    "<!-- # Section 2: Statistics for Data Processing\n",
    "Consider a dataset intended for a rating system, which spans a range from 1 to 10 but includes an outlier (100) and a missing value (NA): [1, 2, 3, 4, 5, 6, 7, 8, 9, 10, 100, NA]. Addressing the peculiarities of this dataset involves several critical steps:\n",
    "* Understanding the Dataset Through Sample Statistics (noting the small size of this example compared to typically larger datasets)\n",
    "* Handling Missing or Incomplete Values\n",
    "* Identifying and Removing Outliers:\n",
    "  *  **How is the Interquartile Range useful for outlier detection?** You may want to look at the from-scratch implementation of `calculate_quartiles` in [the python module](my_ml_package/stat.py) for insight.\n",
    "\n",
    "For preprocessing multivariate data in preparation for some ML algorithms, especially algorithms based on geometric, it's crucial to:\n",
    "* Normalize the data, utilizing techniques such as Min-Max Scaling. -->\n",
    "### Normalization/scaling\n"
   ]
  },
  {
   "cell_type": "code",
   "execution_count": 19,
   "metadata": {},
   "outputs": [
    {
     "name": "stdout",
     "output_type": "stream",
     "text": [
      "[0.         0.00900901 0.0990991  1.        ]\n"
     ]
    }
   ],
   "source": [
    "\n",
    "import numpy as np\n",
    "feature = [1, 10, 100, 1000]\n",
    "\n",
    "mi = np.min(feature)\n",
    "ma = np.max(feature)\n",
    "\n",
    "normalized_feature = (feature - mi) / (ma - mi)\n",
    "\n",
    "print(normalized_feature)\n"
   ]
  },
  {
   "cell_type": "markdown",
   "metadata": {},
   "source": []
  },
  {
   "cell_type": "markdown",
   "metadata": {},
   "source": [
    "**Reference**\n",
    "* Introduction to Probability and Statistics for Engineers and Scientists"
   ]
  },
  {
   "cell_type": "markdown",
   "metadata": {},
   "source": []
  }
 ],
 "metadata": {
  "kernelspec": {
   "display_name": "learn_ml",
   "language": "python",
   "name": "python3"
  },
  "language_info": {
   "codemirror_mode": {
    "name": "ipython",
    "version": 3
   },
   "file_extension": ".py",
   "mimetype": "text/x-python",
   "name": "python",
   "nbconvert_exporter": "python",
   "pygments_lexer": "ipython3",
   "version": "3.12.2"
  },
  "orig_nbformat": 4
 },
 "nbformat": 4,
 "nbformat_minor": 2
}
